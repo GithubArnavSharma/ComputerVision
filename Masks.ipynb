{
  "nbformat": 4,
  "nbformat_minor": 0,
  "metadata": {
    "colab": {
      "name": "Masks.ipynb",
      "provenance": [],
      "collapsed_sections": []
    },
    "kernelspec": {
      "name": "python3",
      "display_name": "Python 3"
    },
    "language_info": {
      "name": "python"
    },
    "accelerator": "GPU",
    "gpuClass": "standard"
  },
  "cells": [
    {
      "cell_type": "code",
      "execution_count": null,
      "metadata": {
        "colab": {
          "base_uri": "https://localhost:8080/"
        },
        "id": "EJTSk4I91vL7",
        "outputId": "73127322-cf61-4555-8fc3-dbe0b94127b7"
      },
      "outputs": [
        {
          "output_type": "stream",
          "name": "stdout",
          "text": [
            "Modules imported!\n"
          ]
        }
      ],
      "source": [
        "import numpy as np\n",
        "import matplotlib.pyplot as plt\n",
        "from PIL import Image\n",
        "from os import listdir\n",
        "from os.path import isfile, join\n",
        "from sklearn.model_selection import train_test_split\n",
        "from keras import Sequential\n",
        "from keras.layers import Dense, Conv2D, Dropout, MaxPooling2D, Flatten\n",
        "from tensorflow.keras.utils import to_categorical\n",
        "from tensorflow.keras.preprocessing.image import ImageDataGenerator\n",
        "from tensorflow.keras.models import load_model\n",
        "\n",
        "print(\"Modules imported!\")"
      ]
    },
    {
      "cell_type": "code",
      "source": [
        "mask_incorrect = []\n",
        "with_mask = []\n",
        "without_mask = []\n",
        "\n",
        "all_paths = ['drive/MyDrive/Masks/mask_weared_incorrect', 'drive/MyDrive/Masks/with_mask', 'drive/MyDrive/Masks/without_mask']\n",
        "\n",
        "for path in all_paths:\n",
        "  the_files = [f for f in listdir(path) if isfile(join(path, f)) and '(' not in f]\n",
        "\n",
        "  for f in the_files:\n",
        "    img = Image.open(open(path+\"/\"+f, 'rb'))\n",
        "    img = img.resize((64,64))\n",
        "    arr = np.array(img) / 255.0\n",
        "\n",
        "    if 'mask_weared_incorrect' in path:\n",
        "      mask_incorrect.append(arr) \n",
        "    elif 'with_mask' in path:\n",
        "      with_mask.append(arr)\n",
        "    elif 'without_mask' in path:\n",
        "      without_mask.append(arr)\n",
        "    else:\n",
        "      print(\"ERROR\")\n",
        "      break\n",
        "\n",
        "mask_incorrect = np.array(mask_incorrect)\n",
        "with_mask = np.array(with_mask)\n",
        "without_mask = np.array(without_mask)\n",
        "\n",
        "print(with_mask.shape, mask_incorrect.shape, without_mask.shape)"
      ],
      "metadata": {
        "colab": {
          "base_uri": "https://localhost:8080/"
        },
        "id": "8KNV3R0e2Fzh",
        "outputId": "9575248a-48c3-4602-841c-9f39776eeef0"
      },
      "execution_count": null,
      "outputs": [
        {
          "output_type": "stream",
          "name": "stdout",
          "text": [
            "(2994, 64, 64, 3) (2994, 64, 64, 3) (2994, 64, 64, 3)\n"
          ]
        }
      ]
    },
    {
      "cell_type": "code",
      "source": [
        "imgs = np.concatenate((without_mask, mask_incorrect, with_mask))\n",
        "labels = np.array([0 for i in range(2994)] + [1 for i in range(2994)] + [2 for i in range(2994)])\n",
        "labels = to_categorical(labels)\n",
        "\n",
        "print(imgs.shape)\n",
        "print(labels.shape)"
      ],
      "metadata": {
        "colab": {
          "base_uri": "https://localhost:8080/"
        },
        "id": "pZAv0BWT4n38",
        "outputId": "9f3f2c66-5ee5-4688-a17e-5b4f1222a859"
      },
      "execution_count": null,
      "outputs": [
        {
          "output_type": "stream",
          "name": "stdout",
          "text": [
            "(8982, 64, 64, 3)\n",
            "(8982, 3)\n"
          ]
        }
      ]
    },
    {
      "cell_type": "code",
      "source": [
        "X_train, X_test, y_train, y_test = train_test_split(imgs, labels, test_size=0.2, random_state=0)\n",
        "\n",
        "print(X_train.shape, y_train.shape)\n",
        "print(X_test.shape, y_test.shape)"
      ],
      "metadata": {
        "colab": {
          "base_uri": "https://localhost:8080/"
        },
        "id": "akLfTSo7JJuA",
        "outputId": "08ea2643-6a63-41e2-e6a6-53ad9d02cadd"
      },
      "execution_count": null,
      "outputs": [
        {
          "output_type": "stream",
          "name": "stdout",
          "text": [
            "(7185, 64, 64, 3) (7185, 3)\n",
            "(1797, 64, 64, 3) (1797, 3)\n"
          ]
        }
      ]
    },
    {
      "cell_type": "code",
      "source": [
        "model = Sequential()\n",
        "model.add(Conv2D(64, input_shape=(64,64,3), kernel_size=(3,3), padding='same', activation='relu'))\n",
        "model.add(Conv2D(64, kernel_size=(3,3), padding='same', activation='relu'))\n",
        "model.add(MaxPooling2D())\n",
        "model.add(Dropout(0.3))\n",
        "model.add(Conv2D(128, kernel_size=(3,3), padding='same', activation='relu'))\n",
        "model.add(Conv2D(128, kernel_size=(3,3), padding='same', activation='relu'))\n",
        "model.add(MaxPooling2D())\n",
        "model.add(Dropout(0.3))\n",
        "model.add(Flatten())\n",
        "model.add(Dense(64, activation='relu'))\n",
        "model.add(Dropout(0.3))\n",
        "model.add(Dense(3, activation='softmax'))\n",
        "\n",
        "model.compile(optimizer='adam', loss='categorical_crossentropy', metrics=['accuracy'])"
      ],
      "metadata": {
        "id": "iYh7c-GvJail"
      },
      "execution_count": null,
      "outputs": []
    },
    {
      "cell_type": "code",
      "source": [
        "datagen = ImageDataGenerator(\n",
        "    height_shift_range=0.1,\n",
        "    width_shift_range=0.1,\n",
        "    shear_range=0.1,\n",
        "    zoom_range=0.1,\n",
        ")\n",
        "datagen.fit(X_train)\n",
        "\n",
        "model.fit(datagen.flow(X_train, y_train, batch_size=64), epochs=10, validation_data=(X_test, y_test))\n",
        "model.save('sample_data/Mask_CNN.h5')"
      ],
      "metadata": {
        "colab": {
          "base_uri": "https://localhost:8080/"
        },
        "id": "N-ZkQPHwKrWa",
        "outputId": "27efde75-59de-48fa-ccdc-830197b90cb1"
      },
      "execution_count": null,
      "outputs": [
        {
          "output_type": "stream",
          "name": "stdout",
          "text": [
            "Epoch 1/10\n",
            "113/113 [==============================] - 12s 91ms/step - loss: 0.6747 - accuracy: 0.6999 - val_loss: 0.3725 - val_accuracy: 0.8737\n",
            "Epoch 2/10\n",
            "113/113 [==============================] - 9s 83ms/step - loss: 0.4183 - accuracy: 0.8411 - val_loss: 0.2987 - val_accuracy: 0.8926\n",
            "Epoch 3/10\n",
            "113/113 [==============================] - 9s 83ms/step - loss: 0.3389 - accuracy: 0.8689 - val_loss: 0.2465 - val_accuracy: 0.9204\n",
            "Epoch 4/10\n",
            "113/113 [==============================] - 9s 83ms/step - loss: 0.3005 - accuracy: 0.8857 - val_loss: 0.1839 - val_accuracy: 0.9304\n",
            "Epoch 5/10\n",
            "113/113 [==============================] - 9s 83ms/step - loss: 0.2622 - accuracy: 0.9002 - val_loss: 0.2152 - val_accuracy: 0.9265\n",
            "Epoch 6/10\n",
            "113/113 [==============================] - 10s 84ms/step - loss: 0.2218 - accuracy: 0.9168 - val_loss: 0.2232 - val_accuracy: 0.9160\n",
            "Epoch 7/10\n",
            "113/113 [==============================] - 9s 83ms/step - loss: 0.2123 - accuracy: 0.9239 - val_loss: 0.1269 - val_accuracy: 0.9538\n",
            "Epoch 8/10\n",
            "113/113 [==============================] - 9s 83ms/step - loss: 0.1665 - accuracy: 0.9404 - val_loss: 0.1226 - val_accuracy: 0.9627\n",
            "Epoch 9/10\n",
            "113/113 [==============================] - 9s 84ms/step - loss: 0.1503 - accuracy: 0.9467 - val_loss: 0.0971 - val_accuracy: 0.9638\n",
            "Epoch 10/10\n",
            "113/113 [==============================] - 9s 83ms/step - loss: 0.1333 - accuracy: 0.9532 - val_loss: 0.0904 - val_accuracy: 0.9672\n"
          ]
        }
      ]
    },
    {
      "cell_type": "code",
      "source": [
        "model = load_model('sample_data/Mask_CNN.h5')"
      ],
      "metadata": {
        "id": "p660pVpos4qJ"
      },
      "execution_count": null,
      "outputs": []
    },
    {
      "cell_type": "code",
      "source": [
        "def img_to_pred(img_path):\n",
        "  img = Image.open(img_path)\n",
        "  img_arr = np.array(img.resize((64,64)))[:, :, :3]\n",
        "  img_arr = img_arr / 255.0\n",
        "\n",
        "  plt.imshow(img_arr) \n",
        "  plt.show()\n",
        "\n",
        "  pred = model.predict(img_arr.reshape(1,64,64,3))\n",
        "  true_pred = np.argmax(pred)\n",
        "\n",
        "  return true_pred\n",
        "\n",
        "print(img_to_pred('sample_data/E.jpg'))"
      ],
      "metadata": {
        "colab": {
          "base_uri": "https://localhost:8080/",
          "height": 285
        },
        "id": "5h-Hud5QmCg5",
        "outputId": "7501160b-8df0-44d6-9266-ab728b80b7a5"
      },
      "execution_count": null,
      "outputs": [
        {
          "output_type": "display_data",
          "data": {
            "text/plain": [
              "<Figure size 432x288 with 1 Axes>"
            ],
            "image/png": "[encoded data removed]"
          },
          "metadata": {
            "needs_background": "light"
          }
        },
        {
          "output_type": "stream",
          "name": "stdout",
          "text": [
            "2\n"
          ]
        }
      ]
    }
  ]
}